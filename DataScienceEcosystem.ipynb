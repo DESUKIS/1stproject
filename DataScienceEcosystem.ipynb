{
 "cells": [
  {
   "cell_type": "markdown",
   "id": "9cdd01fa-47a6-4698-a7a3-b00d2ecb282f",
   "metadata": {},
   "source": [
    "# Data Science Tools and Ecosystem"
   ]
  },
  {
   "cell_type": "markdown",
   "id": "591ee5bc-1d75-4ed2-80f0-66289cf613d6",
   "metadata": {},
   "source": [
    "In this notebook, Data Science Tools and Ecosystem are summarized."
   ]
  },
  {
   "cell_type": "markdown",
   "id": "cfa3e2bb-4ec1-475a-b929-dbc5e36b393c",
   "metadata": {},
   "source": [
    "__Objectives:__\n",
    "* List popular languages for Data Scientists\n",
    "* List popular libraries for Data Scientists\n",
    "* List tools for Data Scientists"
   ]
  },
  {
   "cell_type": "markdown",
   "id": "baf09bc1-4146-4506-a086-bea889ec6701",
   "metadata": {},
   "source": [
    "Some of the commonly used languages used by Data Scientists include:\n",
    "1. Python\n",
    "2. SQL\n",
    "3. r"
   ]
  },
  {
   "cell_type": "markdown",
   "id": "35a4d9de-7309-4bf6-8a6a-695610b0ccf1",
   "metadata": {},
   "source": [
    "Some of the commonly used libraries used by Data Scientists include:\n",
    "1. Pandas\n",
    "2. NumPy\n",
    "3. TensorFlow"
   ]
  },
  {
   "cell_type": "markdown",
   "id": "b3bbca16-4c3c-45a5-9555-d5cfeaa397c9",
   "metadata": {},
   "source": [
    "Data Science Tools\n",
    "1. RStudio\n",
    "2. Apache Spark\n",
    "3. Apache Hadoop"
   ]
  },
  {
   "cell_type": "markdown",
   "id": "e534d5e0-d13f-40fd-9d68-ba97c603d10b",
   "metadata": {},
   "source": [
    "### Below are a few examples of evaluating arithmetic expressions in Python"
   ]
  },
  {
   "cell_type": "code",
   "execution_count": 2,
   "id": "5c53436c-b75d-4728-8649-577166043dec",
   "metadata": {
    "tags": []
   },
   "outputs": [
    {
     "data": {
      "text/plain": [
       "17"
      ]
     },
     "execution_count": 2,
     "metadata": {},
     "output_type": "execute_result"
    }
   ],
   "source": [
    "# This is a simple arithmetic expression to multiply then add integers.\n",
    "(3*4)+5"
   ]
  },
  {
   "cell_type": "code",
   "execution_count": 3,
   "id": "6cd7b6d0-b12f-4122-8683-479d1b8bad20",
   "metadata": {
    "tags": []
   },
   "outputs": [
    {
     "data": {
      "text/plain": [
       "3.3333333333333335"
      ]
     },
     "execution_count": 3,
     "metadata": {},
     "output_type": "execute_result"
    }
   ],
   "source": [
    "# This will convert 200 minutes to hours by dividing by 60.\n",
    "200 / 60"
   ]
  },
  {
   "cell_type": "markdown",
   "id": "03089e17-31e9-4fbd-be72-00c9ffeb81e5",
   "metadata": {},
   "source": [
    "## Author\n",
    "Don Sukis Jr."
   ]
  }
 ],
 "metadata": {
  "kernelspec": {
   "display_name": "Python",
   "language": "python",
   "name": "conda-env-python-py"
  },
  "language_info": {
   "codemirror_mode": {
    "name": "ipython",
    "version": 3
   },
   "file_extension": ".py",
   "mimetype": "text/x-python",
   "name": "python",
   "nbconvert_exporter": "python",
   "pygments_lexer": "ipython3",
   "version": "3.7.12"
  }
 },
 "nbformat": 4,
 "nbformat_minor": 5
}
